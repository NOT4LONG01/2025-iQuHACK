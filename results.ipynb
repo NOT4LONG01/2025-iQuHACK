{
 "cells": [
  {
   "cell_type": "markdown",
   "id": "7520dd67",
   "metadata": {},
   "source": [
    "## Main Code"
   ]
  },
  {
   "cell_type": "code",
   "execution_count": 1,
   "id": "94e25491",
   "metadata": {},
   "outputs": [],
   "source": [
    "import numpy as np\n",
    "from random import randint\n",
    "from math import gcd, ceil\n",
    "from qiskit import QuantumCircuit, transpile\n",
    "from math import gcd\n",
    "import numpy as np\n",
    "from fractions import Fraction\n",
    "from quantumrings.toolkit.qiskit import QrBackendV2"
   ]
  },
  {
   "cell_type": "code",
   "execution_count": 2,
   "id": "5c9391c4",
   "metadata": {},
   "outputs": [],
   "source": [
    "def generate_a(N, seed=1):\n",
    "    \"\"\"Generate a random integer 'a' such that gcd(a, N) = 1.\"\"\"\n",
    "    np.random.seed(seed)  # Set random seed for reproducibility\n",
    "    \n",
    "    a = randint(2, N)  # Random number between 2 and N-1\n",
    "    while gcd(a, N) != 1:\n",
    "        a = randint(2, N - 1)\n",
    "    \n",
    "    return a"
   ]
  },
  {
   "cell_type": "code",
   "execution_count": 3,
   "id": "2132aef3",
   "metadata": {},
   "outputs": [],
   "source": [
    "def qft_dagger(num_qubits):\n",
    "    \"\"\"Creates the inverse Quantum Fourier Transform circuit.\"\"\"\n",
    "    qc = QuantumCircuit(num_qubits)\n",
    "    for qubit in range(num_qubits // 2):\n",
    "        qc.swap(qubit, num_qubits - qubit - 1)\n",
    "    for j in range(num_qubits):\n",
    "        for m in range(j):\n",
    "            qc.cp(-np.pi / float(2 ** (j - m)), m, j)\n",
    "        qc.h(j)\n",
    "    return qc"
   ]
  },
  {
   "cell_type": "code",
   "execution_count": 4,
   "id": "6e3b443e",
   "metadata": {},
   "outputs": [],
   "source": [
    "def c_amodN(a, power, N):\n",
    "    \"\"\"Controlled multiplication by a mod N, where N is a semiprime.\"\"\"\n",
    "    if gcd(a, N) != 1:\n",
    "        raise ValueError(f\"a={a} must be coprime to N={N}.\")\n",
    "    \n",
    "    n_qubits = len(bin(N)) - 2  # Minimum number of qubits to represent N\n",
    "    U = QuantumCircuit(n_qubits)\n",
    "    \n",
    "    for _ in range(power):\n",
    "        for qubit in range(n_qubits - 1):\n",
    "            U.cx(qubit, (qubit + 1) % n_qubits)  # Placeholder for modular multiplication logic\n",
    "    \n",
    "    U = U.to_gate()\n",
    "    U.name = f\"{a}^{power} mod {N}\"\n",
    "    return U.control()"
   ]
  },
  {
   "cell_type": "code",
   "execution_count": 5,
   "id": "9a6505cc",
   "metadata": {},
   "outputs": [],
   "source": [
    "def qpe_amodN(a, N, provider, shots):\n",
    "    \"\"\"Performs quantum phase estimation on a*r mod N.\"\"\"\n",
    "    # Number of counting qubits\n",
    "    N_COUNT = ceil(np.log2(N))\n",
    "    n = ceil(np.log2(N))  # Number of qubits for auxiliary register\n",
    "    \n",
    "    # Create the quantum circuit\n",
    "    qc = QuantumCircuit(N_COUNT + n, N_COUNT)\n",
    "    \n",
    "    # Initialize counting qubits to |+>\n",
    "    for q in range(N_COUNT):\n",
    "        qc.h(q)\n",
    "    \n",
    "    # Initialize the auxiliary register to |1>\n",
    "    qc.x(N_COUNT)\n",
    "    \n",
    "    # Apply controlled-U operations\n",
    "    for q in range(N_COUNT):\n",
    "        qc.append(c_amodN(a, 2**q, N), [q] + [i + N_COUNT for i in range(n)])\n",
    "    \n",
    "    # Apply the inverse QFT\n",
    "    qc.append(qft_dagger(N_COUNT), range(N_COUNT))\n",
    "    \n",
    "    # Measure the counting qubits\n",
    "    qc.measure(range(N_COUNT), range(N_COUNT))\n",
    "    \n",
    "    # Transpile and execute\n",
    "    backend = QrBackendV2(provider, num_qubits = qc.num_qubits)\n",
    "    qc_transpiled = transpile(qc, backend)\n",
    "    print(f\"number of qubits: {qc_transpiled.num_qubits}\")\n",
    "    print(f\"number of gate operations: {qc_transpiled.count_ops()}\")\n",
    "    job = backend.run(qc_transpiled, shots=shots)\n",
    "    readings = job.result().get_memory()\n",
    "    \n",
    "    # Convert the measurement to phase\n",
    "    most_common = max(set(readings), key=readings.count)\n",
    "    phase = int(most_common, 2) / (2 ** N_COUNT)\n",
    "    \n",
    "    print(f\"Register Reading: {most_common}\")\n",
    "    print(f\"Corresponding Phase: {phase}\")\n",
    "    return phase\n"
   ]
  },
  {
   "cell_type": "code",
   "execution_count": 6,
   "id": "fc7fbf25",
   "metadata": {},
   "outputs": [],
   "source": [
    "def find_factors(N, provider, shots=1024):\n",
    "    \"\"\"Shor's algorithm for finding non-trivial factors of N.\"\"\"\n",
    "    FACTOR_FOUND = False\n",
    "    ATTEMPT = 0\n",
    "    \n",
    "    while not FACTOR_FOUND:\n",
    "        ATTEMPT += 1\n",
    "        print(f\"\\nATTEMPT {ATTEMPT}:\")\n",
    "        \n",
    "        # Generate a random 'a' coprime to N\n",
    "        a = generate_a(N)  \n",
    "        print(f\"Chosen 'a': {a}\")\n",
    "        \n",
    "        # Perform QPE\n",
    "        phase = qpe_amodN(a, N, provider, shots)  # Phase = s / r\n",
    "        \n",
    "        # Convert the phase to a rational approximation s/r\n",
    "        frac = Fraction(phase).limit_denominator(N)\n",
    "        r = frac.denominator\n",
    "        print(f\"Phase: {phase}, Approximated r = {r}\")\n",
    "        \n",
    "        if r % 2 != 0 or pow(a, r // 2, N) in [0, 1, N - 1]:\n",
    "            print(\"Invalid r, retrying...\")\n",
    "            continue  # Retry if r is odd or doesn't give non-trivial factors\n",
    "        \n",
    "        # Compute potential factors\n",
    "        guesses = [gcd(pow(a, r // 2) - 1, N), gcd(pow(a, r // 2) + 1, N)]\n",
    "        print(f\"Guessed Factors: {guesses[0]} and {guesses[1]}\")\n",
    "        \n",
    "        # Check the guesses\n",
    "        for guess in guesses:\n",
    "            if guess not in [1, N] and (N % guess) == 0:\n",
    "                print(f\"*** Non-trivial factor found: {guess} ***\")\n",
    "                FACTOR_FOUND = True\n",
    "                return guess, N // guess  # Return the two factors\n",
    "    \n",
    "    print(\"No factors found.\")\n",
    "    return None, None"
   ]
  },
  {
   "cell_type": "code",
   "execution_count": 7,
   "id": "6823f6d1",
   "metadata": {},
   "outputs": [
    {
     "data": {
      "text/plain": [
       "{'name': 'dignp5@yonsei.ac.kr',\n",
       " 'token': 'rings-200.tgGDmsBUuh8pqz21JO21ACa1bR6u6uZr',\n",
       " 'max_qubits': '200'}"
      ]
     },
     "execution_count": 7,
     "metadata": {},
     "output_type": "execute_result"
    }
   ],
   "source": [
    "from QuantumRingsLib import QuantumRingsProvider\n",
    "\n",
    "provider = QuantumRingsProvider(\n",
    "    token='rings-200.tgGDmsBUuh8pqz21JO21ACa1bR6u6uZr',\n",
    "    name='dignp5@yonsei.ac.kr'\n",
    ")\n",
    "shots = 256\n",
    "\n",
    "provider.active_account()"
   ]
  },
  {
   "cell_type": "code",
   "execution_count": null,
   "id": "1e42957e",
   "metadata": {},
   "outputs": [
    {
     "name": "stdout",
     "output_type": "stream",
     "text": [
      "8: 143\n",
      "\n",
      "ATTEMPT 1:\n",
      "Chosen 'a': 107\n",
      "number of qubits: 16\n",
      "Register Reading: 11000000\n",
      "Corresponding Phase: 0.75\n",
      "Phase: 0.75, Approximated r = 4\n",
      "Guessed Factors: 1 and 1\n",
      "\n",
      "ATTEMPT 2:\n",
      "Chosen 'a': 34\n",
      "number of qubits: 16\n",
      "Register Reading: 00100000\n",
      "Corresponding Phase: 0.125\n",
      "Phase: 0.125, Approximated r = 8\n",
      "Invalid r, retrying...\n",
      "\n",
      "ATTEMPT 3:\n",
      "Chosen 'a': 10\n",
      "number of qubits: 16\n",
      "Register Reading: 10000000\n",
      "Corresponding Phase: 0.5\n",
      "Phase: 0.5, Approximated r = 2\n",
      "Guessed Factors: 1 and 11\n",
      "*** Non-trivial factor found: 11 ***\n",
      "\n",
      "Factors of 143: 11, 13\n",
      "--------------------------------------------------\n",
      "10: 899\n",
      "\n",
      "ATTEMPT 1:\n",
      "Chosen 'a': 649\n",
      "number of qubits: 20\n",
      "Register Reading: 0110000000\n",
      "Corresponding Phase: 0.375\n",
      "Phase: 0.375, Approximated r = 8\n",
      "Guessed Factors: 1 and 1\n",
      "\n",
      "ATTEMPT 2:\n",
      "Chosen 'a': 559\n",
      "number of qubits: 20\n",
      "Register Reading: 0010000000\n",
      "Corresponding Phase: 0.125\n",
      "Phase: 0.125, Approximated r = 8\n",
      "Guessed Factors: 31 and 1\n",
      "*** Non-trivial factor found: 31 ***\n",
      "\n",
      "Factors of 899: 31, 29\n",
      "--------------------------------------------------\n",
      "12: 3127\n",
      "\n",
      "ATTEMPT 1:\n",
      "Chosen 'a': 793\n",
      "number of qubits: 24\n",
      "Register Reading: 001100000000\n",
      "Corresponding Phase: 0.1875\n",
      "Phase: 0.1875, Approximated r = 16\n",
      "Guessed Factors: 1 and 1\n",
      "\n",
      "ATTEMPT 2:\n",
      "Chosen 'a': 1902\n",
      "number of qubits: 24\n",
      "Register Reading: 010000000000\n",
      "Corresponding Phase: 0.25\n",
      "Phase: 0.25, Approximated r = 4\n",
      "Guessed Factors: 1 and 1\n",
      "\n",
      "ATTEMPT 3:\n",
      "Chosen 'a': 1143\n",
      "number of qubits: 24\n",
      "Register Reading: 110100000000\n",
      "Corresponding Phase: 0.8125\n",
      "Phase: 0.8125, Approximated r = 16\n",
      "Guessed Factors: 53 and 1\n",
      "*** Non-trivial factor found: 53 ***\n",
      "\n",
      "Factors of 3127: 53, 59\n",
      "--------------------------------------------------\n",
      "14: 11009\n",
      "\n",
      "ATTEMPT 1:\n",
      "Chosen 'a': 5468\n",
      "number of qubits: 28\n"
     ]
    }
   ],
   "source": [
    "from semiprimes import semiprimes\n",
    "\n",
    "# Create the desired dictionary format\n",
    "formatted_dict = {f\"{period}\": value for period, value in semiprimes.items()}\n",
    "\n",
    "# Print the result\n",
    "for period, semiprime in formatted_dict.items():\n",
    "    print(f\"{period}: {semiprime}\")\n",
    "    N = semiprime\n",
    "    factor1, factor2 = find_factors(N, provider)\n",
    "    print(f\"\\nFactors of {N}: {factor1}, {factor2}\")\n",
    "    print(\"--------------------------------------------------\")"
   ]
  },
  {
   "cell_type": "markdown",
   "id": "37913753",
   "metadata": {},
   "source": [
    "## Extra codes for number of qubits, number of gate operations and the exection times"
   ]
  },
  {
   "cell_type": "code",
   "execution_count": null,
   "id": "8b1a2628",
   "metadata": {},
   "outputs": [
    {
     "name": "stdout",
     "output_type": "stream",
     "text": [
      "\n",
      "ATTEMPT 1:\n",
      "Chosen 'a': 93\n",
      "number of qubits: 16\n",
      "number of gate operations: OrderedDict({'csx': 5355, 'cx': 3570, 'z': 3570, 'sdg': 1785, 'cp': 28, 'h': 16, 'measure': 8, 'x': 1})\n",
      "Register Reading: 01100000\n",
      "Corresponding Phase: 0.375\n",
      "Phase: 0.375, Approximated r = 8\n",
      "Guessed Factors: 1 and 1\n",
      "\n",
      "ATTEMPT 2:\n",
      "Chosen 'a': 84\n",
      "number of qubits: 16\n",
      "number of gate operations: OrderedDict({'csx': 5355, 'cx': 3570, 'z': 3570, 'sdg': 1785, 'cp': 28, 'h': 16, 'measure': 8, 'x': 1})\n",
      "Register Reading: 10000000\n",
      "Corresponding Phase: 0.5\n",
      "Phase: 0.5, Approximated r = 2\n",
      "Guessed Factors: 1 and 1\n",
      "\n",
      "ATTEMPT 3:\n",
      "Chosen 'a': 90\n",
      "number of qubits: 16\n",
      "number of gate operations: OrderedDict({'csx': 5355, 'cx': 3570, 'z': 3570, 'sdg': 1785, 'cp': 28, 'h': 16, 'measure': 8, 'x': 1})\n",
      "Register Reading: 10000000\n",
      "Corresponding Phase: 0.5\n",
      "Phase: 0.5, Approximated r = 2\n",
      "Guessed Factors: 1 and 13\n",
      "*** Non-trivial factor found: 13 ***\n",
      "\n",
      "Factors of 143: 13, 11\n",
      "--------------------------------------------------\n",
      "CPU times: user 41.9 s, sys: 25.9 ms, total: 41.9 s\n",
      "Wall time: 14.7 s\n"
     ]
    }
   ],
   "source": [
    "%%time\n",
    "\n",
    "N = 143\n",
    "factor1, factor2 = find_factors(N, provider)\n",
    "print(f\"\\nFactors of {N}: {factor1}, {factor2}\")\n",
    "print(\"--------------------------------------------------\")"
   ]
  },
  {
   "cell_type": "code",
   "execution_count": null,
   "id": "6e8a979b",
   "metadata": {},
   "outputs": [
    {
     "name": "stdout",
     "output_type": "stream",
     "text": [
      "\n",
      "ATTEMPT 1:\n",
      "Chosen 'a': 402\n",
      "number of qubits: 20\n",
      "number of gate operations: OrderedDict({'csx': 27621, 'cx': 18414, 'z': 18414, 'sdg': 9207, 'cp': 45, 'h': 20, 'measure': 10, 'x': 1})\n",
      "Register Reading: 0111000000\n",
      "Corresponding Phase: 0.4375\n",
      "Phase: 0.4375, Approximated r = 16\n",
      "Guessed Factors: 31 and 1\n",
      "*** Non-trivial factor found: 31 ***\n",
      "\n",
      "Factors of 899: 31, 29\n",
      "--------------------------------------------------\n",
      "CPU times: user 2min 40s, sys: 112 ms, total: 2min 40s\n",
      "Wall time: 1min 9s\n"
     ]
    }
   ],
   "source": [
    "%%time\n",
    "\n",
    "N = 899\n",
    "factor1, factor2 = find_factors(N, provider)\n",
    "print(f\"\\nFactors of {N}: {factor1}, {factor2}\")\n",
    "print(\"--------------------------------------------------\")"
   ]
  },
  {
   "cell_type": "code",
   "execution_count": null,
   "id": "fc81579f",
   "metadata": {},
   "outputs": [
    {
     "name": "stdout",
     "output_type": "stream",
     "text": [
      "\n",
      "ATTEMPT 1:\n",
      "Chosen 'a': 1212\n",
      "number of qubits: 24\n",
      "number of gate operations: OrderedDict({'csx': 135135, 'cx': 90090, 'z': 90090, 'sdg': 45045, 'cp': 66, 'h': 24, 'measure': 12, 'x': 1})\n",
      "Register Reading: 011100000000\n",
      "Corresponding Phase: 0.4375\n",
      "Phase: 0.4375, Approximated r = 16\n",
      "Guessed Factors: 1 and 1\n",
      "\n",
      "ATTEMPT 2:\n",
      "Chosen 'a': 705\n",
      "number of qubits: 24\n",
      "number of gate operations: OrderedDict({'csx': 135135, 'cx': 90090, 'z': 90090, 'sdg': 45045, 'cp': 66, 'h': 24, 'measure': 12, 'x': 1})\n",
      "Register Reading: 101100000000\n",
      "Corresponding Phase: 0.6875\n",
      "Phase: 0.6875, Approximated r = 16\n",
      "Guessed Factors: 1 and 1\n",
      "\n",
      "ATTEMPT 3:\n",
      "Chosen 'a': 2999\n",
      "number of qubits: 24\n",
      "number of gate operations: OrderedDict({'csx': 135135, 'cx': 90090, 'z': 90090, 'sdg': 45045, 'cp': 66, 'h': 24, 'measure': 12, 'x': 1})\n",
      "Register Reading: 110000000000\n",
      "Corresponding Phase: 0.75\n",
      "Phase: 0.75, Approximated r = 4\n",
      "Guessed Factors: 1 and 1\n",
      "\n",
      "ATTEMPT 4:\n",
      "Chosen 'a': 146\n",
      "number of qubits: 24\n",
      "number of gate operations: OrderedDict({'csx': 135135, 'cx': 90090, 'z': 90090, 'sdg': 45045, 'cp': 66, 'h': 24, 'measure': 12, 'x': 1})\n",
      "Register Reading: 000100000000\n",
      "Corresponding Phase: 0.0625\n",
      "Phase: 0.0625, Approximated r = 16\n",
      "Guessed Factors: 1 and 1\n",
      "\n",
      "ATTEMPT 5:\n",
      "Chosen 'a': 2010\n",
      "number of qubits: 24\n",
      "number of gate operations: OrderedDict({'csx': 135135, 'cx': 90090, 'z': 90090, 'sdg': 45045, 'cp': 66, 'h': 24, 'measure': 12, 'x': 1})\n",
      "Register Reading: 011100000000\n",
      "Corresponding Phase: 0.4375\n",
      "Phase: 0.4375, Approximated r = 16\n",
      "Guessed Factors: 1 and 1\n",
      "\n",
      "ATTEMPT 6:\n",
      "Chosen 'a': 853\n",
      "number of qubits: 24\n",
      "number of gate operations: OrderedDict({'csx': 135135, 'cx': 90090, 'z': 90090, 'sdg': 45045, 'cp': 66, 'h': 24, 'measure': 12, 'x': 1})\n",
      "Register Reading: 001100000000\n",
      "Corresponding Phase: 0.1875\n",
      "Phase: 0.1875, Approximated r = 16\n",
      "Guessed Factors: 1 and 1\n",
      "\n",
      "ATTEMPT 7:\n",
      "Chosen 'a': 881\n",
      "number of qubits: 24\n",
      "number of gate operations: OrderedDict({'csx': 135135, 'cx': 90090, 'z': 90090, 'sdg': 45045, 'cp': 66, 'h': 24, 'measure': 12, 'x': 1})\n",
      "Register Reading: 001100000000\n",
      "Corresponding Phase: 0.1875\n",
      "Phase: 0.1875, Approximated r = 16\n",
      "Guessed Factors: 1 and 1\n",
      "\n",
      "ATTEMPT 8:\n",
      "Chosen 'a': 1661\n",
      "number of qubits: 24\n",
      "number of gate operations: OrderedDict({'csx': 135135, 'cx': 90090, 'z': 90090, 'sdg': 45045, 'cp': 66, 'h': 24, 'measure': 12, 'x': 1})\n"
     ]
    }
   ],
   "source": [
    "%%time\n",
    "\n",
    "N = 3127\n",
    "factor1, factor2 = find_factors(N, provider)\n",
    "print(f\"\\nFactors of {N}: {factor1}, {factor2}\")\n",
    "print(\"--------------------------------------------------\")"
   ]
  },
  {
   "cell_type": "code",
   "execution_count": null,
   "id": "0ab96f62",
   "metadata": {},
   "outputs": [
    {
     "name": "stdout",
     "output_type": "stream",
     "text": [
      "\n",
      "ATTEMPT 1:\n",
      "Chosen 'a': 1758\n",
      "number of qubits: 28\n",
      "number of gate operations: OrderedDict({'csx': 638937, 'cx': 425958, 'z': 425958, 'sdg': 212979, 'cp': 91, 'h': 28, 'measure': 14, 'x': 1})\n"
     ]
    }
   ],
   "source": [
    "%%time\n",
    "\n",
    "N = 11009\n",
    "factor1, factor2 = find_factors(N, provider)\n",
    "print(f\"\\nFactors of {N}: {factor1}, {factor2}\")\n",
    "print(\"--------------------------------------------------\")"
   ]
  },
  {
   "cell_type": "code",
   "execution_count": null,
   "id": "ba83b473",
   "metadata": {},
   "outputs": [
    {
     "name": "stdout",
     "output_type": "stream",
     "text": [
      "\n",
      "ATTEMPT 1:\n",
      "Chosen 'a': 3402\n",
      "number of qubits: 32\n",
      "number of gate operations: OrderedDict({'csx': 2949075, 'cx': 1966050, 'z': 1966050, 'sdg': 983025, 'cp': 120, 'h': 32, 'measure': 16, 'x': 1})\n"
     ]
    }
   ],
   "source": [
    "%%time\n",
    "\n",
    "N = 47053\n",
    "factor1, factor2 = find_factors(N, provider)\n",
    "print(f\"\\nFactors of {N}: {factor1}, {factor2}\")\n",
    "print(\"--------------------------------------------------\")"
   ]
  },
  {
   "cell_type": "code",
   "execution_count": null,
   "id": "cc369ef0",
   "metadata": {},
   "outputs": [
    {
     "name": "stdout",
     "output_type": "stream",
     "text": [
      "\n",
      "ATTEMPT 1:\n",
      "Chosen 'a': 120048\n"
     ]
    }
   ],
   "source": [
    "%%time\n",
    "\n",
    "N = 167659\n",
    "factor1, factor2 = find_factors(N, provider)\n",
    "print(f\"\\nFactors of {N}: {factor1}, {factor2}\")\n",
    "print(\"--------------------------------------------------\")"
   ]
  },
  {
   "cell_type": "code",
   "execution_count": null,
   "id": "f23b5cd1",
   "metadata": {},
   "outputs": [],
   "source": []
  }
 ],
 "metadata": {
  "kernelspec": {
   "display_name": "iQuHACK",
   "language": "python",
   "name": "python3"
  },
  "language_info": {
   "codemirror_mode": {
    "name": "ipython",
    "version": 3
   },
   "file_extension": ".py",
   "mimetype": "text/x-python",
   "name": "python",
   "nbconvert_exporter": "python",
   "pygments_lexer": "ipython3",
   "version": "3.12.3"
  }
 },
 "nbformat": 4,
 "nbformat_minor": 5
}
