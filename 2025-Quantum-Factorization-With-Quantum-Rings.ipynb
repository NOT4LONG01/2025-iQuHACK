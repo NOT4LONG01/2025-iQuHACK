{
 "cells": [
  {
   "cell_type": "markdown",
   "id": "255d7590-bf87-47d8-b0c6-ae67aef1403c",
   "metadata": {},
   "source": [
    "See how to use Shor's algorithm to factor 15 here:    <b><a href=\"https://portal.quantumrings.com/doc/Shors.html\">Shor15</a></b>"
   ]
  },
  {
   "cell_type": "markdown",
   "id": "546dce63-062e-49d0-922a-ab233b397a70",
   "metadata": {},
   "source": [
    "<i><b>Source code to factorize 15</b></i>"
   ]
  },
  {
   "cell_type": "markdown",
   "id": "85955e61-324f-4412-9bac-e6dd69699824",
   "metadata": {},
   "source": [
    "Note: Be sure to use your API token and your account name."
   ]
  },
  {
   "cell_type": "markdown",
   "id": "ef5152de-a79d-4a8e-9870-77a2d13e265e",
   "metadata": {},
   "source": [
    "Step 1. Import the required modules and obtain the backend"
   ]
  },
  {
   "cell_type": "code",
   "execution_count": 1,
   "id": "1098cc1a-6195-4fb4-87bb-9001779b002c",
   "metadata": {},
   "outputs": [],
   "source": [
    "import QuantumRingsLib\n",
    "from QuantumRingsLib import QuantumRegister, AncillaRegister, ClassicalRegister, QuantumCircuit\n",
    "from QuantumRingsLib import QuantumRingsProvider\n",
    "from QuantumRingsLib import job_monitor\n",
    "from QuantumRingsLib import JobStatus\n",
    "from matplotlib import pyplot as plt\n",
    "import numpy as np\n",
    "import math"
   ]
  },
  {
   "cell_type": "code",
   "execution_count": 2,
   "id": "d51aec62",
   "metadata": {},
   "outputs": [
    {
     "data": {
      "text/plain": [
       "{'name': 'dignp5@yonsei.ac.kr',\n",
       " 'token': 'rings-200.tgGDmsBUuh8pqz21JO21ACa1bR6u6uZr',\n",
       " 'max_qubits': '200'}"
      ]
     },
     "execution_count": 2,
     "metadata": {},
     "output_type": "execute_result"
    }
   ],
   "source": [
    "from QuantumRingsLib import QuantumRingsProvider\n",
    "\n",
    "provider = QuantumRingsProvider(\n",
    "    token='rings-200.tgGDmsBUuh8pqz21JO21ACa1bR6u6uZr',\n",
    "    name='dignp5@yonsei.ac.kr'\n",
    ")\n",
    "shots = 1024\n",
    "\n",
    "provider.active_account()"
   ]
  },
  {
   "cell_type": "markdown",
   "id": "f92608ce-86bd-4760-bc1c-ca7e722ae280",
   "metadata": {},
   "source": [
    "Step 2. Define the core methods"
   ]
  },
  {
   "cell_type": "code",
   "execution_count": 3,
   "id": "f32086a1-a980-4d19-8f14-0adcaae9c9c9",
   "metadata": {},
   "outputs": [],
   "source": [
    "def iqft_cct(qc, b, n):\n",
    "    \"\"\"\n",
    "    The inverse QFT circuit\n",
    "\n",
    "    Args:\n",
    "\n",
    "        qc (QuantumCircuit):\n",
    "                The quantum circuit\n",
    "\n",
    "        b (QuantumRegister):\n",
    "                The target register\n",
    "\n",
    "        n (int):\n",
    "                The number of qubits in the registers to use\n",
    "\n",
    "    Returns:\n",
    "        None\n",
    "\n",
    "    \"\"\"\n",
    "\n",
    "    for i in range (n):\n",
    "        for j in range (1, i+1):\n",
    "            # for inverse transform, we have to use negative angles\n",
    "            qc.cu1(  -math.pi / 2** ( i -j + 1 ), b[j - 1], b[i])\n",
    "        # the H transform should be done after the rotations\n",
    "        qc.h(b[i])\n",
    "    qc.barrier()\n",
    "    return\n",
    "\n",
    "def plot_histogram (counts, title=\"\"):\n",
    "    \"\"\"\n",
    "    Plots the histogram of the counts\n",
    "\n",
    "    Args:\n",
    "\n",
    "        counts (dict):\n",
    "            The dictionary containing the counts of states\n",
    "\n",
    "        titles (str):\n",
    "            A title for the graph.\n",
    "\n",
    "    Returns:\n",
    "        None\n",
    "\n",
    "    \"\"\"\n",
    "    fig, ax = plt.subplots(figsize =(10, 7))\n",
    "    plt.xlabel(\"States\")\n",
    "    plt.ylabel(\"Counts\")\n",
    "    mylist = [key for key, val in counts.items() for _ in range(val)]\n",
    "\n",
    "    unique, inverse = np.unique(mylist, return_inverse=True)\n",
    "    bin_counts = np.bincount(inverse)\n",
    "\n",
    "    plt.bar(unique, bin_counts)\n",
    "\n",
    "    maxFreq = max(counts.values())\n",
    "    plt.ylim(ymax=np.ceil(maxFreq / 10) * 10 if maxFreq % 10 else maxFreq + 10)\n",
    "    # Show plot\n",
    "    plt.title(title)\n",
    "    plt.show()\n",
    "    return"
   ]
  },
  {
   "cell_type": "markdown",
   "id": "2f211c13-04db-4f78-b700-5bde24875ab8",
   "metadata": {},
   "source": [
    "Step 3. Perform the algorithm"
   ]
  },
  {
   "cell_type": "code",
   "execution_count": 4,
   "id": "90af8eb2-e56e-46ff-baf2-fed0c08306f9",
   "metadata": {},
   "outputs": [
    {
     "name": "stdout",
     "output_type": "stream",
     "text": [
      "       ┌───┐ ╎                                     ╎ ┌───┐               »\n",
      "q[0]: ■┤ H ├─╎─────────────────────────────────────╎─┤ H ├───────■───────»\n",
      "       ├───┤ ╎                                     ╎ └───┘┌──────┴──────┐»\n",
      "q[1]: ■┤ H ├─╎──────────────────■─────────■────────╎──────┤ U1(-pi/2)   ├»\n",
      "       ├───┤ ╎                  │         │        ╎      └─────────────┘»\n",
      "q[2]: ■┤ H ├─╎───■────■─────────│─────────│────────╎─────────────────────»\n",
      "       └───┘ ╎   │    │       ┌─┴─┐       │        ╎                     »\n",
      "q[3]: ■──────╎───│────│───────┤ X ├──■────│────────╎─────────────────────»\n",
      "             ╎ ┌─┴─┐  │  ┌───┐└─┬─┘  │    │  ┌───┐ ╎                     »\n",
      "q[4]: ■──────╎─┤ X ├──│──┤ X ├──│────│────■──┤ X ├─╎─────────────────────»\n",
      "             ╎ └───┘┌─┴─┐└─┬─┘  │  ┌─┴─┐  │  └─┬─┘ ╎                     »\n",
      "q[5]: ■──────╎──────┤ X ├──│────■──┤ X ├──│────│───╎─────────────────────»\n",
      "       ┌───┐ ╎      └───┘  │       └───┘┌─┴─┐  │   ╎                     »\n",
      "q[6]: ■┤ X ├─╎─────────────■────────────┤ X ├──■───╎─────────────────────»\n",
      "       └───┘ ╎                          └───┘      ╎                     »\n",
      "c: 4/ ■══════════════════════════════════════════════════════════════════»\n",
      "                                                                         »\n",
      "«                                                ╎ ┌───┐           \n",
      "«q[0]: ■────────────■────────────────────────────╎─┤ M ├────────── \n",
      "«       ┌───┐       │                            ╎ └─╥─┘┌───┐      \n",
      "«q[1]: ■┤ H ├───────│──────────────■─────────────╎───║──┤ M ├───── \n",
      "«       └───┘┌──────┴──────┐┌──────┴──────┐┌───┐ ╎   ║  └─╥─┘┌───┐ \n",
      "«q[2]: ■─────┤ U1(-pi/4)   ├┤ U1(-pi/2)   ├┤ H ├─╎───║────║──┤ M ├ \n",
      "«            └─────────────┘└─────────────┘└───┘ ╎   ║    ║  └─╥─┘ \n",
      "«q[3]: ■─────────────────────────────────────────╎───║────║────║── \n",
      "«                                                ╎   ║    ║    ║   \n",
      "«q[4]: ■─────────────────────────────────────────╎───║────║────║── \n",
      "«                                                ╎   ║    ║    ║   \n",
      "«q[5]: ■─────────────────────────────────────────╎───║────║────║── \n",
      "«                                                ╎   ║    ║    ║   \n",
      "«q[6]: ■─────────────────────────────────────────╎───║────║────║── \n",
      "«                                                ╎   ║    ║    ║   \n",
      "«c: 4/ ■═════════════════════════════════════════════╩════╩════╩══ \n",
      "«                                                    0    1    2   \n"
     ]
    }
   ],
   "source": [
    "# Shor’s algorithm to factorize 15 using 7^x mod 15.\n",
    "numberofqubits = 7\n",
    "shots = 1024\n",
    "\n",
    "q = QuantumRegister(numberofqubits , 'q')\n",
    "c = ClassicalRegister(4 , 'c')\n",
    "qc = QuantumCircuit(q, c)\n",
    "\n",
    "# Initialize source and target registers\n",
    "qc.h(0)\n",
    "qc.h(1)\n",
    "qc.h(2)\n",
    "qc.x(6)\n",
    "qc.barrier()\n",
    "\n",
    "# Modular exponentiation 7^x mod 15\n",
    "qc.cx(q[2],q[4] )\n",
    "qc.cx(q[2],q[5] )\n",
    "qc.cx(q[6],q[4] )\n",
    "qc.ccx(q[1],q[5],q[3] )\n",
    "qc.cx(q[3],q[5] )\n",
    "qc.ccx(q[1],q[4],q[6] )\n",
    "qc.cx(q[6],q[4] ) #\n",
    "qc.barrier()\n",
    "\n",
    "# IQFT. Refer to implementation from earlier examples\n",
    "iqft_cct (qc, q, 3)\n",
    "\n",
    "# Measure\n",
    "qc.measure(q[0], c[0])\n",
    "qc.measure(q[1], c[1])\n",
    "qc.measure(q[2], c[2])\n",
    "\n",
    "# Draw the circuit\n",
    "qc.draw('mpl')"
   ]
  },
  {
   "cell_type": "markdown",
   "id": "72783cb3-a464-4a9c-98ac-9ad533f53222",
   "metadata": {},
   "source": [
    "The circuit to factor 15 shown above."
   ]
  },
  {
   "cell_type": "code",
   "execution_count": 5,
   "id": "1923d677-ed19-4892-a44e-66f05fca3406",
   "metadata": {},
   "outputs": [
    {
     "ename": "NameError",
     "evalue": "name 'backend' is not defined",
     "output_type": "error",
     "traceback": [
      "\u001b[0;31m---------------------------------------------------------------------------\u001b[0m",
      "\u001b[0;31mNameError\u001b[0m                                 Traceback (most recent call last)",
      "Cell \u001b[0;32mIn[5], line 2\u001b[0m\n\u001b[1;32m      1\u001b[0m \u001b[38;5;66;03m# Execute the circuit\u001b[39;00m\n\u001b[0;32m----> 2\u001b[0m job \u001b[38;5;241m=\u001b[39m \u001b[43mbackend\u001b[49m\u001b[38;5;241m.\u001b[39mrun(qc, shots\u001b[38;5;241m=\u001b[39mshots)\n\u001b[1;32m      3\u001b[0m job_monitor(job)\n\u001b[1;32m      4\u001b[0m result \u001b[38;5;241m=\u001b[39m job\u001b[38;5;241m.\u001b[39mresult()\n",
      "\u001b[0;31mNameError\u001b[0m: name 'backend' is not defined"
     ]
    }
   ],
   "source": [
    "# Execute the circuit\n",
    "job = backend.run(qc, shots=shots)\n",
    "job_monitor(job)\n",
    "result = job.result()\n",
    "counts = result.get_counts()\n",
    "\n",
    "# visualize\n",
    "plot_histogram(counts)\n",
    "\n",
    "#clean up\n",
    "del q, c, qc\n",
    "del result\n",
    "del job"
   ]
  },
  {
   "cell_type": "markdown",
   "id": "d69fcca9-6545-4f8a-9758-0865e240a57e",
   "metadata": {},
   "source": [
    "A plot of the execution results is shown above. Compare this with the calculated values."
   ]
  },
  {
   "cell_type": "markdown",
   "id": "f4545dfd-da08-4ac1-87c9-b426a92de748",
   "metadata": {},
   "source": [
    "Footnotes\n",
    "\n",
    "[1] This section is based on [10], [14], and [16].\n",
    "\n",
    "[2] https://research.ibm.com/blog/factor-15-shors-algorithm\n",
    "\n",
    "[3] https://en.wikipedia.org/wiki/Integer_factorization_records#Records_for_efforts_by_quantum_computers"
   ]
  },
  {
   "cell_type": "markdown",
   "id": "67046175",
   "metadata": {},
   "source": [
    "Factor Large Semiprime Integers\n",
    "------------------\n",
    "Use quantum algorithms to tackle a prepared list of semiprime integers, from an approachable 8-bit number and growing to numbers beyond sizes that are yet known to have been factored using quantum algorithms."
   ]
  },
  {
   "cell_type": "code",
   "execution_count": 6,
   "id": "eb4eeb4d",
   "metadata": {},
   "outputs": [
    {
     "name": "stdout",
     "output_type": "stream",
     "text": [
      "8: 143\n",
      "10: 899\n",
      "12: 3127\n",
      "14: 11009\n",
      "16: 47053\n",
      "18: 167659\n",
      "20: 744647\n",
      "22: 3036893\n",
      "24: 11426971\n",
      "26: 58949987\n",
      "28: 208241207\n",
      "30: 857830637\n",
      "32: 2776108693\n",
      "34: 11455067797\n",
      "36: 52734393667\n",
      "38: 171913873883\n",
      "40: 862463409547\n",
      "42: 2830354423669\n",
      "44: 12942106192073\n",
      "46: 53454475917779\n",
      "48: 255975740711783\n",
      "50: 696252032788709\n",
      "52: 3622511636491483\n",
      "54: 15631190744806271\n",
      "56: 51326462028714137\n",
      "58: 217320198167105543\n",
      "60: 827414216976034907\n",
      "62: 3594396771839811733\n",
      "64: 13489534701147995111\n",
      "66: 48998116978431560767\n",
      "68: 220295379750460962499\n",
      "70: 757619317101213697553\n",
      "72: 4239706985407101925109\n",
      "74: 13081178794322790282667\n",
      "76: 48581232636534199345531\n",
      "78: 263180236071092621088443\n",
      "80: 839063370715343025081359\n",
      "82: 3145102596907521247788809\n",
      "84: 13410747867593584234359179\n",
      "86: 74963308816794035875414187\n",
      "88: 196328049947816898123437813\n",
      "90: 900212494943030042797046797\n",
      "92: 3408479268382267351010110507\n",
      "94: 13410207519922000104514406009\n",
      "96: 56540697284955642837798912007\n",
      "98: 212736089539904961817389577063\n",
      "100: 793334180624272295351382130129\n",
      "102: 3680428259937415378335285504779\n",
      "104: 16332602937710799037362680335351\n",
      "106: 57831217106245162293092061499909\n",
      "108: 248282609001868585591158742505413\n",
      "110: 1052209925061489272435010659874991\n",
      "112: 3787041098266201578641927407194191\n",
      "114: 13439273072951974276382903784255637\n",
      "116: 53125759235002964322304682027959157\n",
      "118: 291658670780267526191653438575411491\n",
      "120: 1153151809972770124185028131269906357\n",
      "122: 4932188172696454339739318297923925849\n",
      "124: 17356117513473888567381746939296160477\n",
      "126: 70736588847140822442757134113822365169\n",
      "128: 212537944946563703298274772990879967689\n",
      "130: 1084744344991496578890012624928207712213\n",
      "132: 4047187468515523114449296638529157815821\n",
      "134: 17544816517388983161547445055372483694669\n",
      "136: 68909661794716346033524625875715931123259\n",
      "138: 260300599328718051119938934425302978167179\n",
      "140: 999828801740135651717021198616667990536367\n",
      "142: 3355483482297520282820961102046248621459173\n",
      "144: 16631837140942852587293950352766905297528897\n",
      "146: 85937541327755603528549497212629785145477713\n",
      "148: 244379668284326186252863240169712092438850161\n",
      "150: 1063901349880514705720387916171354938099705083\n",
      "152: 4094301101616740933345553372923577469734725267\n",
      "154: 18540363865879151504375215350972044662106182549\n",
      "156: 74276654746024856066871733818210517618023005407\n",
      "158: 275275419272426358674813929221957447870184635413\n",
      "160: 1014737718417810170242113026859620408620227447581\n",
      "162: 4478072308913255100498385793781543335816717273939\n",
      "164: 16727777314454032963341593941190650285738385202361\n",
      "166: 69590306463255114448417962649373740941080626000523\n",
      "168: 315687739381804055710020885538727496795372933617227\n",
      "170: 1267155784800316161358824961914132766229147990344997\n",
      "172: 4010354160858905534730018630654476125957281838169269\n",
      "174: 14153584803038660862653346883739092747954923774660251\n",
      "176: 77432705949923513909636069140456666815340352624073251\n",
      "178: 339852994275131877601341971143799720360724856306184203\n",
      "180: 1179359789143995137143701718442354039063066637950737429\n",
      "182: 4919304328219861879269200803487336608500936862015264459\n",
      "184: 17505199067294797183746989001423060541688565870542696723\n",
      "186: 69942997811183689049499239546127943802272331478524805397\n",
      "188: 261274809295595261399973998023978896104786545957568559137\n",
      "190: 1406369495880278908988444017973006804779746131711977427971\n",
      "192: 5096174527932196609747662866401954341497716363174035275761\n",
      "194: 17829232438088717947765479975403534458051445077992682449561\n",
      "196: 65066066269192108839947861329734188452463615549935803519143\n",
      "198: 349950642518780039677569542727000637357372102125566743672291\n",
      "200: 1292650905825941096257239453478790385594125558306176183893071\n",
      "202: 5212568709703227409964986200323079271990196603993590694680391\n",
      "204: 24456849430211698827484825800200226142835068670603824696509853\n",
      "206: 86484458957105177897678864034678638961222781895382346786419167\n",
      "208: 282008119289803047168077576239866793179892385097797258038424567\n",
      "210: 1204782513175327651249234385485579508935520775091508304137907593\n",
      "212: 4557491279500788785092872521598135415310018444227180886738032603\n",
      "214: 20157487867138959990956400818670113252626858623502858096773250117\n",
      "216: 76043131885256815931216222672122360339414261530624664568946162829\n",
      "218: 344050409069283777519808151926058652189426586409858940845468981861\n",
      "220: 1261954136810361898882562305061560803960332696773429051013499670427\n",
      "222: 4967098631546029459529052889119752620821846506121675016252303705879\n",
      "224: 16820438383635236108780123377884102235161339126337922957523995233529\n",
      "226: 89004872228161109668642757451109313028486456927748001177934114653617\n",
      "228: 417997545002926789713327767706388156900167929618181881789066408078713\n",
      "230: 1448119400401161666430996998583433602188054714520957809331008374203811\n",
      "232: 6085700232501070308789059668383263517284617763227080242662586334468949\n",
      "234: 18761475251108592243772325275525370672745869289561231704528591592371501\n",
      "236: 75378971952862314631435911840791163346363206779933878820532663796306607\n",
      "238: 334251059867417571197273497079020101091157708427514612078154549573744053\n",
      "240: 1293224958516444312449612523948303217126432531171026209139782551333088281\n",
      "242: 5936906321010438090569400987846435049778779894646896974880143196051640311\n",
      "244: 20576188160125558108332221675210966458468072966170808188722656711461127553\n",
      "246: 80363125512735611009514922977138951394216679592881179768811803231929707129\n",
      "248: 371791977264476193233793691135938456442939709119625615853629510058608968387\n",
      "250: 1042050145513045807703000231691018818256527018925081399314153802338188332967\n",
      "252: 5279774839958419063483802629238621577728731461590896999443064285556245912531\n",
      "254: 20335945572378210037443669733175394361807801065230296579184489046120469661507\n",
      "256: 104343749483876530238735961449384774965065842501756473864398652143393515842787\n"
     ]
    }
   ],
   "source": [
    "from semiprimes import semiprimes\n",
    "\n",
    "# Create the desired dictionary format\n",
    "formatted_dict = {f\"{period}\": value for period, value in semiprimes.items()}\n",
    "\n",
    "# Print the result\n",
    "for period, semiprime in formatted_dict.items():\n",
    "    print(f\"{period}: {semiprime}\")"
   ]
  },
  {
   "cell_type": "markdown",
   "id": "5368d18b",
   "metadata": {},
   "source": [
    "Finding Periodic Function\n",
    "------------"
   ]
  },
  {
   "cell_type": "code",
   "execution_count": 7,
   "id": "6bb21317",
   "metadata": {},
   "outputs": [
    {
     "name": "stdout",
     "output_type": "stream",
     "text": [
      "Imports Successful\n"
     ]
    }
   ],
   "source": [
    "# pylint: disable=invalid-name\n",
    "import matplotlib.pyplot as plt\n",
    "import numpy as np\n",
    "from math import gcd\n",
    "from numpy.random import randint\n",
    "import pandas as pd\n",
    "from fractions import Fraction\n",
    "print(\"Imports Successful\")"
   ]
  },
  {
   "cell_type": "code",
   "execution_count": 8,
   "id": "4efb7be7",
   "metadata": {},
   "outputs": [
    {
     "data": {
      "image/png": "[encoded data removed]",
      "text/plain": [
       "<Figure size 640x480 with 1 Axes>"
      ]
     },
     "metadata": {},
     "output_type": "display_data"
    }
   ],
   "source": [
    "N = 143\n",
    "a = 7\n",
    "\n",
    "# Calculate the plotting data\n",
    "xvals = np.arange(N)\n",
    "yvals = [np.mod(a**x, N) for x in xvals]\n",
    "\n",
    "# Use matplotlib to display it nicely\n",
    "fig, ax = plt.subplots()\n",
    "ax.plot(xvals, yvals, linewidth=1, linestyle='dotted', marker='x')\n",
    "ax.set(xlabel='$x$', ylabel=f'${a}^x$ mod ${N}$',\n",
    "       title=\"Example of Periodic Function in Shor's Algorithm\")\n",
    "try: # plot r on the graph\n",
    "    r = yvals[1:].index(1) + 1\n",
    "    plt.annotate('', xy=(0,1), xytext=(r,1),\n",
    "                 arrowprops=dict(arrowstyle='<->'))\n",
    "    plt.annotate(f'$r={r}$', xy=(r/3,1.5))\n",
    "except ValueError:\n",
    "    print('Could not find period, check a < N and have no common factors.')"
   ]
  },
  {
   "cell_type": "code",
   "execution_count": 9,
   "id": "687c2a42",
   "metadata": {},
   "outputs": [
    {
     "name": "stdout",
     "output_type": "stream",
     "text": [
      "52\n"
     ]
    }
   ],
   "source": [
    "print(r)"
   ]
  },
  {
   "cell_type": "markdown",
   "id": "f8e5786a",
   "metadata": {},
   "source": [
    "## Modular Exponentiation\n",
    "\n",
    "You may have noticed that the method of creating the $U^{2^j}$ gates by repeating $U$ grows exponentially with $j$ and will not result in a polynomial time algorithm. We want a way to create the operator:\n",
    "\n",
    "$$ U^{2^j}|y\\rangle = |a^{2^j}y \\bmod N \\rangle $$\n",
    "\n",
    "that grows polynomially with $j$. Fortunately, calculating:\n",
    "\n",
    "$$ a^{2^j} \\bmod N$$\n",
    "\n",
    "efficiently is possible. Classical computers can use an algorithm known as _repeated squaring_ to calculate an exponential. In our case, since we are only dealing with exponentials of the form $2^j$, the repeated squaring algorithm becomes very simple:"
   ]
  },
  {
   "cell_type": "code",
   "execution_count": 10,
   "id": "7ec61bb8",
   "metadata": {},
   "outputs": [],
   "source": [
    "def a2jmodN(a, j, N):\n",
    "    \"\"\"Compute a^{2^j} (mod N) by repeated squaring\"\"\"\n",
    "    for _ in range(j):\n",
    "        a = np.mod(a**2, N)\n",
    "    return a"
   ]
  },
  {
   "cell_type": "code",
   "execution_count": 11,
   "id": "0d075cd4",
   "metadata": {},
   "outputs": [
    {
     "data": {
      "text/plain": [
       "np.int64(47)"
      ]
     },
     "execution_count": 11,
     "metadata": {},
     "output_type": "execute_result"
    }
   ],
   "source": [
    "a2jmodN(7, 2049, 53)"
   ]
  },
  {
   "cell_type": "markdown",
   "id": "32c9d4c1",
   "metadata": {},
   "source": [
    "If an efficient algorithm is possible in Python, then we can use the same algorithm on a quantum computer. Unfortunately, despite scaling polynomially with $j$, modular exponentiation circuits are not straightforward and are the bottleneck in Shor’s algorithm. A beginner-friendly implementation can be found in reference [1].\n",
    "\n",
    "## Factoring from Period Finding\n",
    "\n",
    "Not all factoring problems are difficult; we can spot an even number instantly and know that one of its factors is 2. In fact, there are [specific criteria](https://nvlpubs.nist.gov/nistpubs/FIPS/NIST.FIPS.186-4.pdf#%5B%7B%22num%22%3A127%2C%22gen%22%3A0%7D%2C%7B%22name%22%3A%22XYZ%22%7D%2C70%2C223%2C0%5D) for choosing numbers that are difficult to factor, but the basic idea is to choose the product of two large prime numbers.\n",
    "\n",
    "A general factoring algorithm will first check to see if there is a shortcut to factoring the integer (is the number even? Is the number of the form $N = a^b$?), before using Shor’s period finding for the worst-case scenario. Since we aim to focus on the quantum part of the algorithm, we will jump straight to the case in which N is the product of two primes.\n",
    "\n",
    "### Example: Factoring 15\n",
    "\n",
    "To see an example of factoring on a small number of qubits, we will factor 15, which we all know is the product of the not-so-large prime numbers 3 and 5."
   ]
  },
  {
   "cell_type": "code",
   "execution_count": 12,
   "id": "bbed3000",
   "metadata": {},
   "outputs": [],
   "source": [
    "N = 15"
   ]
  },
  {
   "cell_type": "markdown",
   "id": "e340d7cb",
   "metadata": {},
   "source": [
    "The first step is to choose a random number, $a$, between $1$ and $N-1$:"
   ]
  },
  {
   "cell_type": "code",
   "execution_count": 13,
   "id": "c5e080c5",
   "metadata": {},
   "outputs": [
    {
     "name": "stdout",
     "output_type": "stream",
     "text": [
      "7\n"
     ]
    }
   ],
   "source": [
    "np.random.seed(1) # This is to make sure we get reproduceable results\n",
    "a = randint(2, 15)\n",
    "print(a)"
   ]
  },
  {
   "cell_type": "markdown",
   "id": "8ea04dfc",
   "metadata": {},
   "source": [
    "Next we quickly check it isn't already a non-trivial factor of $N$:"
   ]
  },
  {
   "cell_type": "code",
   "execution_count": 14,
   "id": "de9820f9",
   "metadata": {},
   "outputs": [
    {
     "data": {
      "text/plain": [
       "1"
      ]
     },
     "execution_count": 14,
     "metadata": {},
     "output_type": "execute_result"
    }
   ],
   "source": [
    "from math import gcd # greatest common divisor\n",
    "gcd(a, N)"
   ]
  },
  {
   "cell_type": "markdown",
   "id": "19daaa27",
   "metadata": {},
   "source": [
    "Great. Next, we do Shor's order finding algorithm for `a = 7` and `N = 15`. Remember that the phase we measure will be $s/r$ where:\n",
    "\n",
    "$$ a^r \\bmod N = 1 $$\n",
    "\n",
    "and $s$ is a random integer between 0 and $r-1$."
   ]
  },
  {
   "cell_type": "code",
   "execution_count": 15,
   "id": "2f9ca1cd",
   "metadata": {},
   "outputs": [],
   "source": [
    "# Import the required modules\n",
    "from qiskit.circuit import QuantumCircuit\n",
    "from qiskit import QuantumCircuit, transpile, QuantumRegister, ClassicalRegister, AncillaRegister\n",
    "from qiskit.visualization import plot_histogram\n",
    "from matplotlib import pyplot as plt"
   ]
  },
  {
   "cell_type": "code",
   "execution_count": 16,
   "id": "9876dca6",
   "metadata": {},
   "outputs": [],
   "source": [
    "def c_amod15(a, power):\n",
    "    \"\"\"Controlled multiplication by a mod 15\"\"\"\n",
    "    if a not in [2,4,7,8,11,13]:\n",
    "        raise ValueError(\"'a' must be 2,4,7,8,11 or 13\")\n",
    "    U = QuantumCircuit(4)\n",
    "    for _iteration in range(power):\n",
    "        if a in [2,13]:\n",
    "            U.swap(2,3)\n",
    "            U.swap(1,2)\n",
    "            U.swap(0,1)\n",
    "        if a in [7,8]:\n",
    "            U.swap(0,1)\n",
    "            U.swap(1,2)\n",
    "            U.swap(2,3)\n",
    "        if a in [4, 11]:\n",
    "            U.swap(1,3)\n",
    "            U.swap(0,2)\n",
    "        if a in [7,11,13]:\n",
    "            for q in range(4):\n",
    "                U.x(q)\n",
    "    U = U.to_gate()\n",
    "    U.name = f\"{a}^{power} mod 15\"\n",
    "    c_U = U.control()\n",
    "    return c_U"
   ]
  },
  {
   "cell_type": "code",
   "execution_count": 17,
   "id": "0284ab0c",
   "metadata": {},
   "outputs": [],
   "source": [
    "# Specify variables\n",
    "N_COUNT = 8  # number of counting qubits\n",
    "a = 7"
   ]
  },
  {
   "cell_type": "code",
   "execution_count": 18,
   "id": "521bed57",
   "metadata": {},
   "outputs": [],
   "source": [
    "def qft_dagger(n):\n",
    "    \"\"\"n-qubit QFTdagger the first n qubits in circ\"\"\"\n",
    "    qc = QuantumCircuit(n)\n",
    "    # Don't forget the Swaps!\n",
    "    for qubit in range(n//2):\n",
    "        qc.swap(qubit, n-qubit-1)\n",
    "    for j in range(n):\n",
    "        for m in range(j):\n",
    "            qc.cp(-np.pi/float(2**(j-m)), m, j)\n",
    "        qc.h(j)\n",
    "    qc.name = \"QFT†\"\n",
    "    return qc"
   ]
  },
  {
   "cell_type": "code",
   "execution_count": 19,
   "id": "8f34cf67",
   "metadata": {},
   "outputs": [
    {
     "data": {
      "text/html": [
       "<pre style=\"word-wrap: normal;white-space: pre;background: #fff0;line-height: 1.1;font-family: &quot;Courier New&quot;,Courier,monospace\">      ┌───┐                                                                                                                             ┌───────┐┌─┐                     \n",
       " q_0: ┤ H ├───────■─────────────────────────────────────────────────────────────────────────────────────────────────────────────────────┤0      ├┤M├─────────────────────\n",
       "      ├───┤       │                                                                                                                     │       │└╥┘┌─┐                  \n",
       " q_1: ┤ H ├───────┼──────────────■──────────────────────────────────────────────────────────────────────────────────────────────────────┤1      ├─╫─┤M├──────────────────\n",
       "      ├───┤       │              │                                                                                                      │       │ ║ └╥┘┌─┐               \n",
       " q_2: ┤ H ├───────┼──────────────┼──────────────■───────────────────────────────────────────────────────────────────────────────────────┤2      ├─╫──╫─┤M├───────────────\n",
       "      ├───┤       │              │              │                                                                                       │       │ ║  ║ └╥┘┌─┐            \n",
       " q_3: ┤ H ├───────┼──────────────┼──────────────┼──────────────■────────────────────────────────────────────────────────────────────────┤3      ├─╫──╫──╫─┤M├────────────\n",
       "      ├───┤       │              │              │              │                                                                        │  QFT† │ ║  ║  ║ └╥┘┌─┐         \n",
       " q_4: ┤ H ├───────┼──────────────┼──────────────┼──────────────┼──────────────■─────────────────────────────────────────────────────────┤4      ├─╫──╫──╫──╫─┤M├─────────\n",
       "      ├───┤       │              │              │              │              │                                                         │       │ ║  ║  ║  ║ └╥┘┌─┐      \n",
       " q_5: ┤ H ├───────┼──────────────┼──────────────┼──────────────┼──────────────┼───────────────■─────────────────────────────────────────┤5      ├─╫──╫──╫──╫──╫─┤M├──────\n",
       "      ├───┤       │              │              │              │              │               │                                         │       │ ║  ║  ║  ║  ║ └╥┘┌─┐   \n",
       " q_6: ┤ H ├───────┼──────────────┼──────────────┼──────────────┼──────────────┼───────────────┼───────────────■─────────────────────────┤6      ├─╫──╫──╫──╫──╫──╫─┤M├───\n",
       "      ├───┤       │              │              │              │              │               │               │                         │       │ ║  ║  ║  ║  ║  ║ └╥┘┌─┐\n",
       " q_7: ┤ H ├───────┼──────────────┼──────────────┼──────────────┼──────────────┼───────────────┼───────────────┼────────────────■────────┤7      ├─╫──╫──╫──╫──╫──╫──╫─┤M├\n",
       "      ├───┤┌──────┴──────┐┌──────┴──────┐┌──────┴──────┐┌──────┴──────┐┌──────┴───────┐┌──────┴───────┐┌──────┴───────┐┌───────┴───────┐└───────┘ ║  ║  ║  ║  ║  ║  ║ └╥┘\n",
       " q_8: ┤ X ├┤0            ├┤0            ├┤0            ├┤0            ├┤0             ├┤0             ├┤0             ├┤0              ├──────────╫──╫──╫──╫──╫──╫──╫──╫─\n",
       "      └───┘│             ││             ││             ││             ││              ││              ││              ││               │          ║  ║  ║  ║  ║  ║  ║  ║ \n",
       " q_9: ─────┤1            ├┤1            ├┤1            ├┤1            ├┤1             ├┤1             ├┤1             ├┤1              ├──────────╫──╫──╫──╫──╫──╫──╫──╫─\n",
       "           │  7^1 mod 15 ││  7^2 mod 15 ││  7^4 mod 15 ││  7^8 mod 15 ││  7^16 mod 15 ││  7^32 mod 15 ││  7^64 mod 15 ││  7^128 mod 15 │          ║  ║  ║  ║  ║  ║  ║  ║ \n",
       "q_10: ─────┤2            ├┤2            ├┤2            ├┤2            ├┤2             ├┤2             ├┤2             ├┤2              ├──────────╫──╫──╫──╫──╫──╫──╫──╫─\n",
       "           │             ││             ││             ││             ││              ││              ││              ││               │          ║  ║  ║  ║  ║  ║  ║  ║ \n",
       "q_11: ─────┤3            ├┤3            ├┤3            ├┤3            ├┤3             ├┤3             ├┤3             ├┤3              ├──────────╫──╫──╫──╫──╫──╫──╫──╫─\n",
       "           └─────────────┘└─────────────┘└─────────────┘└─────────────┘└──────────────┘└──────────────┘└──────────────┘└───────────────┘          ║  ║  ║  ║  ║  ║  ║  ║ \n",
       " c: 8/════════════════════════════════════════════════════════════════════════════════════════════════════════════════════════════════════════════╩══╩══╩══╩══╩══╩══╩══╩═\n",
       "                                                                                                                                                  0  1  2  3  4  5  6  7 </pre>"
      ],
      "text/plain": [
       "      ┌───┐                                                                                                                             ┌───────┐┌─┐                     \n",
       " q_0: ┤ H ├───────■─────────────────────────────────────────────────────────────────────────────────────────────────────────────────────┤0      ├┤M├─────────────────────\n",
       "      ├───┤       │                                                                                                                     │       │└╥┘┌─┐                  \n",
       " q_1: ┤ H ├───────┼──────────────■──────────────────────────────────────────────────────────────────────────────────────────────────────┤1      ├─╫─┤M├──────────────────\n",
       "      ├───┤       │              │                                                                                                      │       │ ║ └╥┘┌─┐               \n",
       " q_2: ┤ H ├───────┼──────────────┼──────────────■───────────────────────────────────────────────────────────────────────────────────────┤2      ├─╫──╫─┤M├───────────────\n",
       "      ├───┤       │              │              │                                                                                       │       │ ║  ║ └╥┘┌─┐            \n",
       " q_3: ┤ H ├───────┼──────────────┼──────────────┼──────────────■────────────────────────────────────────────────────────────────────────┤3      ├─╫──╫──╫─┤M├────────────\n",
       "      ├───┤       │              │              │              │                                                                        │  QFT† │ ║  ║  ║ └╥┘┌─┐         \n",
       " q_4: ┤ H ├───────┼──────────────┼──────────────┼──────────────┼──────────────■─────────────────────────────────────────────────────────┤4      ├─╫──╫──╫──╫─┤M├─────────\n",
       "      ├───┤       │              │              │              │              │                                                         │       │ ║  ║  ║  ║ └╥┘┌─┐      \n",
       " q_5: ┤ H ├───────┼──────────────┼──────────────┼──────────────┼──────────────┼───────────────■─────────────────────────────────────────┤5      ├─╫──╫──╫──╫──╫─┤M├──────\n",
       "      ├───┤       │              │              │              │              │               │                                         │       │ ║  ║  ║  ║  ║ └╥┘┌─┐   \n",
       " q_6: ┤ H ├───────┼──────────────┼──────────────┼──────────────┼──────────────┼───────────────┼───────────────■─────────────────────────┤6      ├─╫──╫──╫──╫──╫──╫─┤M├───\n",
       "      ├───┤       │              │              │              │              │               │               │                         │       │ ║  ║  ║  ║  ║  ║ └╥┘┌─┐\n",
       " q_7: ┤ H ├───────┼──────────────┼──────────────┼──────────────┼──────────────┼───────────────┼───────────────┼────────────────■────────┤7      ├─╫──╫──╫──╫──╫──╫──╫─┤M├\n",
       "      ├───┤┌──────┴──────┐┌──────┴──────┐┌──────┴──────┐┌──────┴──────┐┌──────┴───────┐┌──────┴───────┐┌──────┴───────┐┌───────┴───────┐└───────┘ ║  ║  ║  ║  ║  ║  ║ └╥┘\n",
       " q_8: ┤ X ├┤0            ├┤0            ├┤0            ├┤0            ├┤0             ├┤0             ├┤0             ├┤0              ├──────────╫──╫──╫──╫──╫──╫──╫──╫─\n",
       "      └───┘│             ││             ││             ││             ││              ││              ││              ││               │          ║  ║  ║  ║  ║  ║  ║  ║ \n",
       " q_9: ─────┤1            ├┤1            ├┤1            ├┤1            ├┤1             ├┤1             ├┤1             ├┤1              ├──────────╫──╫──╫──╫──╫──╫──╫──╫─\n",
       "           │  7^1 mod 15 ││  7^2 mod 15 ││  7^4 mod 15 ││  7^8 mod 15 ││  7^16 mod 15 ││  7^32 mod 15 ││  7^64 mod 15 ││  7^128 mod 15 │          ║  ║  ║  ║  ║  ║  ║  ║ \n",
       "q_10: ─────┤2            ├┤2            ├┤2            ├┤2            ├┤2             ├┤2             ├┤2             ├┤2              ├──────────╫──╫──╫──╫──╫──╫──╫──╫─\n",
       "           │             ││             ││             ││             ││              ││              ││              ││               │          ║  ║  ║  ║  ║  ║  ║  ║ \n",
       "q_11: ─────┤3            ├┤3            ├┤3            ├┤3            ├┤3             ├┤3             ├┤3             ├┤3              ├──────────╫──╫──╫──╫──╫──╫──╫──╫─\n",
       "           └─────────────┘└─────────────┘└─────────────┘└─────────────┘└──────────────┘└──────────────┘└──────────────┘└───────────────┘          ║  ║  ║  ║  ║  ║  ║  ║ \n",
       " c: 8/════════════════════════════════════════════════════════════════════════════════════════════════════════════════════════════════════════════╩══╩══╩══╩══╩══╩══╩══╩═\n",
       "                                                                                                                                                  0  1  2  3  4  5  6  7 "
      ]
     },
     "execution_count": 19,
     "metadata": {},
     "output_type": "execute_result"
    }
   ],
   "source": [
    "# Create QuantumCircuit with N_COUNT counting qubits\n",
    "# plus 4 qubits for U to act on\n",
    "qc = QuantumCircuit(N_COUNT + 4, N_COUNT)\n",
    "\n",
    "# Initialize counting qubits\n",
    "# in state |+>\n",
    "for q in range(N_COUNT):\n",
    "    qc.h(q)\n",
    "\n",
    "# And auxiliary register in state |1>\n",
    "qc.x(N_COUNT)\n",
    "\n",
    "# Do controlled-U operations\n",
    "for q in range(N_COUNT):\n",
    "    qc.append(c_amod15(a, 2**q),\n",
    "             [q] + [i+N_COUNT for i in range(4)])\n",
    "\n",
    "# Do inverse-QFT\n",
    "qc.append(qft_dagger(N_COUNT), range(N_COUNT))\n",
    "\n",
    "# Measure circuit\n",
    "qc.measure(range(N_COUNT), range(N_COUNT))\n",
    "qc.draw(fold=-1)  # -1 means 'do not fold'"
   ]
  },
  {
   "cell_type": "code",
   "execution_count": 20,
   "id": "d8d51f50",
   "metadata": {},
   "outputs": [],
   "source": [
    "from quantumrings.toolkit.qiskit import QrBackendV2\n",
    "\n",
    "mybackend = QrBackendV2(provider, num_qubits = qc.num_qubits)\n",
    "qc_transpiled = transpile(qc, mybackend, initial_layout=[i for i in range(0, qc.num_qubits)])\n",
    "job = mybackend.run(qc_transpiled, shots = shots)"
   ]
  },
  {
   "cell_type": "code",
   "execution_count": 21,
   "id": "75abf919",
   "metadata": {},
   "outputs": [
    {
     "data": {
      "image/png": "[encoded data removed]",
      "text/plain": [
       "<Figure size 640x480 with 1 Axes>"
      ]
     },
     "execution_count": 21,
     "metadata": {},
     "output_type": "execute_result"
    }
   ],
   "source": [
    "counts = job.result().get_counts()\n",
    "plot_histogram(counts)"
   ]
  },
  {
   "cell_type": "code",
   "execution_count": 22,
   "id": "93ae4ef5",
   "metadata": {},
   "outputs": [
    {
     "name": "stdout",
     "output_type": "stream",
     "text": [
      "            Register Output           Phase\n",
      "0  00000000(bin) =   0(dec)    0/256 = 0.00\n",
      "1  01000000(bin) =  64(dec)   64/256 = 0.25\n",
      "2  10000000(bin) = 128(dec)  128/256 = 0.50\n",
      "3  11000000(bin) = 192(dec)  192/256 = 0.75\n"
     ]
    }
   ],
   "source": [
    "rows, measured_phases = [], []\n",
    "for output in counts:\n",
    "    decimal = int(output, 2)  # Convert (base 2) string to decimal\n",
    "    phase = decimal/(2**N_COUNT)  # Find corresponding eigenvalue\n",
    "    measured_phases.append(phase)\n",
    "    # Add these values to the rows in our table:\n",
    "    rows.append([f\"{output}(bin) = {decimal:>3}(dec)\",\n",
    "                 f\"{decimal}/{2**N_COUNT} = {phase:.2f}\"])\n",
    "# Print the rows in a table\n",
    "headers=[\"Register Output\", \"Phase\"]\n",
    "df = pd.DataFrame(rows, columns=headers)\n",
    "print(df)"
   ]
  },
  {
   "cell_type": "code",
   "execution_count": 23,
   "id": "37116d27",
   "metadata": {},
   "outputs": [
    {
     "data": {
      "text/plain": [
       "Fraction(5998794703657501, 9007199254740992)"
      ]
     },
     "execution_count": 23,
     "metadata": {},
     "output_type": "execute_result"
    }
   ],
   "source": [
    "Fraction(0.666)"
   ]
  },
  {
   "cell_type": "code",
   "execution_count": 24,
   "id": "882ad2c2",
   "metadata": {},
   "outputs": [
    {
     "data": {
      "text/plain": [
       "Fraction(2, 3)"
      ]
     },
     "execution_count": 24,
     "metadata": {},
     "output_type": "execute_result"
    }
   ],
   "source": [
    "# Get fraction that most closely resembles 0.666\n",
    "# with denominator < 15\n",
    "Fraction(0.666).limit_denominator(15)"
   ]
  },
  {
   "cell_type": "code",
   "execution_count": 25,
   "id": "9809fde7",
   "metadata": {},
   "outputs": [
    {
     "name": "stdout",
     "output_type": "stream",
     "text": [
      "   Phase Fraction  Guess for r\n",
      "0   0.00      0/1            1\n",
      "1   0.25      1/4            4\n",
      "2   0.50      1/2            2\n",
      "3   0.75      3/4            4\n"
     ]
    }
   ],
   "source": [
    "rows = []\n",
    "for phase in measured_phases:\n",
    "    frac = Fraction(phase).limit_denominator(15)\n",
    "    rows.append([phase,\n",
    "                 f\"{frac.numerator}/{frac.denominator}\",\n",
    "                 frac.denominator])\n",
    "# Print as a table\n",
    "headers=[\"Phase\", \"Fraction\", \"Guess for r\"]\n",
    "df = pd.DataFrame(rows, columns=headers)\n",
    "print(df)"
   ]
  },
  {
   "cell_type": "code",
   "execution_count": 26,
   "id": "e4b05638",
   "metadata": {},
   "outputs": [],
   "source": [
    "def a2jmodN(a, j, N):\n",
    "    \"\"\"Compute a^{2^j} (mod N) by repeated squaring\"\"\"\n",
    "    for _ in range(j):\n",
    "        a = np.mod(a**2, N)\n",
    "    return a"
   ]
  },
  {
   "cell_type": "code",
   "execution_count": 27,
   "id": "943022c8",
   "metadata": {},
   "outputs": [
    {
     "data": {
      "text/plain": [
       "np.int64(47)"
      ]
     },
     "execution_count": 27,
     "metadata": {},
     "output_type": "execute_result"
    }
   ],
   "source": [
    "a2jmodN(7, 2049, 53)"
   ]
  },
  {
   "cell_type": "markdown",
   "id": "79ffa5d1",
   "metadata": {},
   "source": [
    "## Factoring from Period Finding\n",
    "\n",
    "### Example: Factoring 15\n",
    "\n",
    "To see an example of factoring on a small number of qubits, we will factor 15, which we all know is the product of the not-so-large prime numbers 3 and 5."
   ]
  },
  {
   "cell_type": "code",
   "execution_count": 28,
   "id": "cdccb55b",
   "metadata": {},
   "outputs": [
    {
     "name": "stdout",
     "output_type": "stream",
     "text": [
      "Random a such that gcd(a, N) = 1: 5\n"
     ]
    }
   ],
   "source": [
    "import numpy as np\n",
    "from random import randint\n",
    "from math import gcd\n",
    "\n",
    "N = 143  # Semiprime\n",
    "np.random.seed(1)  # To make sure we get reproducible results\n",
    "\n",
    "# Generate random a such that gcd(a, N) = 1\n",
    "a = randint(2, 15)\n",
    "while gcd(a, N) != 1:\n",
    "    a = randint(2, N)\n",
    "\n",
    "print(\"Random a such that gcd(a, N) = 1:\", a)"
   ]
  },
  {
   "cell_type": "code",
   "execution_count": 29,
   "id": "1eb6d801",
   "metadata": {},
   "outputs": [],
   "source": [
    "def qpe_amod15(a):\n",
    "    \"\"\"Performs quantum phase estimation on the operation a*r mod 15.\n",
    "    Args:\n",
    "        a (int): This is 'a' in a*r mod 15\n",
    "    Returns:\n",
    "        float: Estimate of the phase\n",
    "    \"\"\"\n",
    "    N_COUNT = 8\n",
    "    qc = QuantumCircuit(4+N_COUNT, N_COUNT)\n",
    "    for q in range(N_COUNT):\n",
    "        qc.h(q)     # Initialize counting qubits in state |+>\n",
    "    qc.x(N_COUNT) # And auxiliary register in state |1>\n",
    "    for q in range(N_COUNT): # Do controlled-U operations\n",
    "        qc.append(c_amod15(a, 2**q),\n",
    "                 [q] + [i+N_COUNT for i in range(4)])\n",
    "    qc.append(qft_dagger(N_COUNT), range(N_COUNT)) # Do inverse-QFT\n",
    "    qc.measure(range(N_COUNT), range(N_COUNT))\n",
    "    # Simulate Results\n",
    "    # `memory=True` tells the backend to save each measurement in a list\n",
    "    qc_transpiled = transpile(qc, mybackend, initial_layout=[i for i in range(0, qc.num_qubits)])\n",
    "    job = mybackend.run(qc_transpiled, shots = shots)\n",
    "    readings = job.result().get_memory()\n",
    "    print(\"Register Reading: \" + readings[0])\n",
    "    phase = int(readings[0],2)/(2**N_COUNT)\n",
    "    print(f\"Corresponding Phase: {phase}\")\n",
    "    return phase"
   ]
  },
  {
   "cell_type": "code",
   "execution_count": null,
   "id": "d9770230",
   "metadata": {},
   "outputs": [],
   "source": [
    "N_COUNT = 8\n",
    "qc = QuantumCircuit(4+N_COUNT, N_COUNT)\n",
    "for q in range(N_COUNT):\n",
    "    qc.h(q)     # Initialize counting qubits in state |+>\n",
    "qc.x(N_COUNT) # And auxiliary register in state |1>\n",
    "for q in range(N_COUNT): # Do controlled-U operations\n",
    "    qc.append(c_amod15(a, 2**q),\n",
    "                [q] + [i+N_COUNT for i in range(4)])\n",
    "qc.append(qft_dagger(N_COUNT), range(N_COUNT)) # Do inverse-QFT\n",
    "qc.measure(range(N_COUNT), range(N_COUNT))\n",
    "qc.draw('mpl')"
   ]
  },
  {
   "cell_type": "code",
   "execution_count": null,
   "id": "79b9447a",
   "metadata": {},
   "outputs": [],
   "source": [
    "phase = qpe_amod15(a) # Phase = s/r"
   ]
  },
  {
   "cell_type": "code",
   "execution_count": 32,
   "id": "2c907269",
   "metadata": {},
   "outputs": [
    {
     "name": "stdout",
     "output_type": "stream",
     "text": [
      "4\n"
     ]
    }
   ],
   "source": [
    "frac = Fraction(phase).limit_denominator(15)\n",
    "s, r = frac.numerator, frac.denominator\n",
    "print(r)"
   ]
  },
  {
   "cell_type": "code",
   "execution_count": 33,
   "id": "99ecc509",
   "metadata": {},
   "outputs": [
    {
     "name": "stdout",
     "output_type": "stream",
     "text": [
      "[1, 13]\n"
     ]
    }
   ],
   "source": [
    "guesses = [gcd(a**(r//2)-1, N), gcd(a**(r//2)+1, N)]\n",
    "print(guesses)"
   ]
  },
  {
   "cell_type": "code",
   "execution_count": null,
   "id": "01f347d9",
   "metadata": {},
   "outputs": [],
   "source": [
    "FACTOR_FOUND = False\n",
    "ATTEMPT = 0\n",
    "while not FACTOR_FOUND:\n",
    "    ATTEMPT += 1\n",
    "    print(f\"\\nATTEMPT {ATTEMPT}:\")\n",
    "    phase = qpe_amod15(a) # Phase = s/r\n",
    "    frac = Fraction(phase).limit_denominator(N)\n",
    "    r = frac.denominator\n",
    "    print(f\"Result: r = {r}\")\n",
    "    if phase != 0:\n",
    "        # Guesses for factors are gcd(x^{r/2} ±1 , 15)\n",
    "        guesses = [gcd(a**(r//2)-1, N), gcd(a**(r//2)+1, N)]\n",
    "        print(f\"Guessed Factors: {guesses[0]} and {guesses[1]}\")\n",
    "        for guess in guesses:\n",
    "            if guess not in [1,N] and (N % guess) == 0:\n",
    "                # Guess is a factor!\n",
    "                print(f\"*** Non-trivial factor found: {guess} ***\")\n",
    "                FACTOR_FOUND = True"
   ]
  },
  {
   "cell_type": "markdown",
   "id": "7520dd67",
   "metadata": {},
   "source": [
    "## Main Code"
   ]
  },
  {
   "cell_type": "code",
   "execution_count": 45,
   "id": "94e25491",
   "metadata": {},
   "outputs": [],
   "source": [
    "import numpy as np\n",
    "from random import randint\n",
    "from math import gcd, ceil\n",
    "from qiskit import QuantumCircuit, transpile\n",
    "from math import gcd\n",
    "import numpy as np\n",
    "from fractions import Fraction\n",
    "from quantumrings.toolkit.qiskit import QrBackendV2"
   ]
  },
  {
   "cell_type": "code",
   "execution_count": 46,
   "id": "5c9391c4",
   "metadata": {},
   "outputs": [],
   "source": [
    "def generate_a(N, seed=1):\n",
    "    \"\"\"Generate a random integer 'a' such that gcd(a, N) = 1.\"\"\"\n",
    "    np.random.seed(seed)  # Set random seed for reproducibility\n",
    "    \n",
    "    a = randint(2, N)  # Random number between 2 and N-1\n",
    "    while gcd(a, N) != 1:\n",
    "        a = randint(2, N - 1)\n",
    "    \n",
    "    return a"
   ]
  },
  {
   "cell_type": "code",
   "execution_count": 47,
   "id": "2132aef3",
   "metadata": {},
   "outputs": [],
   "source": [
    "def qft_dagger(num_qubits):\n",
    "    \"\"\"Creates the inverse Quantum Fourier Transform circuit.\"\"\"\n",
    "    qc = QuantumCircuit(num_qubits)\n",
    "    for qubit in range(num_qubits // 2):\n",
    "        qc.swap(qubit, num_qubits - qubit - 1)\n",
    "    for j in range(num_qubits):\n",
    "        for m in range(j):\n",
    "            qc.cp(-np.pi / float(2 ** (j - m)), m, j)\n",
    "        qc.h(j)\n",
    "    return qc"
   ]
  },
  {
   "cell_type": "code",
   "execution_count": 48,
   "id": "6e3b443e",
   "metadata": {},
   "outputs": [],
   "source": [
    "def c_amodN(a, power, N):\n",
    "    \"\"\"Controlled multiplication by a mod N, where N is a semiprime.\"\"\"\n",
    "    if gcd(a, N) != 1:\n",
    "        raise ValueError(f\"a={a} must be coprime to N={N}.\")\n",
    "    \n",
    "    n_qubits = len(bin(N)) - 2  # Minimum number of qubits to represent N\n",
    "    U = QuantumCircuit(n_qubits)\n",
    "    \n",
    "    for _ in range(power):\n",
    "        for qubit in range(n_qubits - 1):\n",
    "            U.cx(qubit, (qubit + 1) % n_qubits)  # Placeholder for modular multiplication logic\n",
    "    \n",
    "    U = U.to_gate()\n",
    "    U.name = f\"{a}^{power} mod {N}\"\n",
    "    return U.control()"
   ]
  },
  {
   "cell_type": "code",
   "execution_count": 54,
   "id": "9a6505cc",
   "metadata": {},
   "outputs": [],
   "source": [
    "def qpe_amodN(a, N, provider, shots):\n",
    "    \"\"\"Performs quantum phase estimation on a*r mod N.\"\"\"\n",
    "    # Number of counting qubits\n",
    "    N_COUNT = ceil(np.log2(N)) + 3\n",
    "    n = ceil(np.log2(N))  # Number of qubits for auxiliary register\n",
    "    \n",
    "    # Create the quantum circuit\n",
    "    qc = QuantumCircuit(N_COUNT + n, N_COUNT)\n",
    "    \n",
    "    # Initialize counting qubits to |+>\n",
    "    for q in range(N_COUNT):\n",
    "        qc.h(q)\n",
    "    \n",
    "    # Initialize the auxiliary register to |1>\n",
    "    qc.x(N_COUNT)\n",
    "    \n",
    "    # Apply controlled-U operations\n",
    "    for q in range(N_COUNT):\n",
    "        qc.append(c_amodN(a, 2**q, N), [q] + [i + N_COUNT for i in range(n)])\n",
    "    \n",
    "    # Apply the inverse QFT\n",
    "    qc.append(qft_dagger(N_COUNT), range(N_COUNT))\n",
    "    \n",
    "    # Measure the counting qubits\n",
    "    qc.measure(range(N_COUNT), range(N_COUNT))\n",
    "    \n",
    "    # Transpile and execute\n",
    "    backend = QrBackendV2(provider, num_qubits = qc.num_qubits)\n",
    "    print(f\"number of qubits: {qc.num_qubits}\")\n",
    "    qc_transpiled = transpile(qc, backend)\n",
    "    job = backend.run(qc_transpiled, shots=shots)\n",
    "    readings = job.result().get_memory()\n",
    "    \n",
    "    # Convert the measurement to phase\n",
    "    most_common = max(set(readings), key=readings.count)\n",
    "    phase = int(most_common, 2) / (2 ** N_COUNT)\n",
    "    \n",
    "    print(f\"Register Reading: {most_common}\")\n",
    "    print(f\"Corresponding Phase: {phase}\")\n",
    "    return phase\n"
   ]
  },
  {
   "cell_type": "code",
   "execution_count": 55,
   "id": "fc7fbf25",
   "metadata": {},
   "outputs": [],
   "source": [
    "def find_factors(N, provider, shots=1024):\n",
    "    \"\"\"Shor's algorithm for finding non-trivial factors of N.\"\"\"\n",
    "    FACTOR_FOUND = False\n",
    "    ATTEMPT = 0\n",
    "    \n",
    "    while not FACTOR_FOUND:\n",
    "        ATTEMPT += 1\n",
    "        print(f\"\\nATTEMPT {ATTEMPT}:\")\n",
    "        \n",
    "        # Generate a random 'a' coprime to N\n",
    "        a = generate_a(N)  \n",
    "        print(f\"Chosen 'a': {a}\")\n",
    "        \n",
    "        # Perform QPE\n",
    "        phase = qpe_amodN(a, N, provider, shots)  # Phase = s / r\n",
    "        \n",
    "        # Convert the phase to a rational approximation s/r\n",
    "        frac = Fraction(phase).limit_denominator(N)\n",
    "        r = frac.denominator\n",
    "        print(f\"Phase: {phase}, Approximated r = {r}\")\n",
    "        \n",
    "        if r % 2 != 0 or pow(a, r // 2, N) in [0, 1, N - 1]:\n",
    "            print(\"Invalid r, retrying...\")\n",
    "            continue  # Retry if r is odd or doesn't give non-trivial factors\n",
    "        \n",
    "        # Compute potential factors\n",
    "        guesses = [gcd(pow(a, r // 2) - 1, N), gcd(pow(a, r // 2) + 1, N)]\n",
    "        print(f\"Guessed Factors: {guesses[0]} and {guesses[1]}\")\n",
    "        \n",
    "        # Check the guesses\n",
    "        for guess in guesses:\n",
    "            if guess not in [1, N] and (N % guess) == 0:\n",
    "                print(f\"*** Non-trivial factor found: {guess} ***\")\n",
    "                FACTOR_FOUND = True\n",
    "                return guess, N // guess  # Return the two factors\n",
    "    \n",
    "    print(\"No factors found.\")\n",
    "    return None, None"
   ]
  },
  {
   "cell_type": "code",
   "execution_count": 56,
   "id": "6823f6d1",
   "metadata": {},
   "outputs": [
    {
     "data": {
      "text/plain": [
       "{'name': 'dignp5@yonsei.ac.kr',\n",
       " 'token': 'rings-200.tgGDmsBUuh8pqz21JO21ACa1bR6u6uZr',\n",
       " 'max_qubits': '200'}"
      ]
     },
     "execution_count": 56,
     "metadata": {},
     "output_type": "execute_result"
    }
   ],
   "source": [
    "from QuantumRingsLib import QuantumRingsProvider\n",
    "\n",
    "provider = QuantumRingsProvider(\n",
    "    token='rings-200.tgGDmsBUuh8pqz21JO21ACa1bR6u6uZr',\n",
    "    name='dignp5@yonsei.ac.kr'\n",
    ")\n",
    "shots = 1024\n",
    "\n",
    "provider.active_account()"
   ]
  },
  {
   "cell_type": "code",
   "execution_count": 57,
   "id": "5466f6b1",
   "metadata": {},
   "outputs": [
    {
     "name": "stdout",
     "output_type": "stream",
     "text": [
      "\n",
      "ATTEMPT 1:\n",
      "Chosen 'a': 10\n",
      "number of qubits: 13\n",
      "Register Reading: 00000000\n",
      "Corresponding Phase: 0.0\n",
      "Phase: 0.0, Approximated r = 1\n",
      "Invalid r, retrying...\n",
      "\n",
      "ATTEMPT 2:\n",
      "Chosen 'a': 2\n",
      "number of qubits: 13\n",
      "Register Reading: 01000000\n",
      "Corresponding Phase: 0.25\n",
      "Phase: 0.25, Approximated r = 4\n",
      "Guessed Factors: 3 and 1\n",
      "*** Non-trivial factor found: 3 ***\n",
      "\n",
      "Factors of 21: 3, 7\n"
     ]
    }
   ],
   "source": [
    "N = 21\n",
    "factor1, factor2 = find_factors(N, provider)\n",
    "print(f\"\\nFactors of {N}: {factor1}, {factor2}\")"
   ]
  },
  {
   "cell_type": "code",
   "execution_count": 58,
   "id": "e4ac54b2",
   "metadata": {},
   "outputs": [
    {
     "name": "stdout",
     "output_type": "stream",
     "text": [
      "\n",
      "ATTEMPT 1:\n",
      "Chosen 'a': 3\n",
      "number of qubits: 15\n",
      "Register Reading: 001000000\n",
      "Corresponding Phase: 0.125\n",
      "Phase: 0.125, Approximated r = 8\n",
      "Guessed Factors: 2 and 2\n",
      "*** Non-trivial factor found: 2 ***\n",
      "\n",
      "Factors of 38: 2, 19\n"
     ]
    }
   ],
   "source": [
    "N = 38\n",
    "factor1, factor2 = find_factors(N, provider)\n",
    "print(f\"\\nFactors of {N}: {factor1}, {factor2}\")"
   ]
  },
  {
   "cell_type": "code",
   "execution_count": null,
   "id": "1e42957e",
   "metadata": {},
   "outputs": [
    {
     "name": "stdout",
     "output_type": "stream",
     "text": [
      "8: 143\n",
      "\n",
      "ATTEMPT 1:\n",
      "Chosen 'a': 93\n",
      "number of qubits: 19\n",
      "Register Reading: 00100000000\n",
      "Corresponding Phase: 0.125\n",
      "Phase: 0.125, Approximated r = 8\n",
      "Guessed Factors: 1 and 1\n",
      "\n",
      "ATTEMPT 2:\n",
      "Chosen 'a': 16\n",
      "number of qubits: 19\n",
      "Register Reading: 11100000000\n",
      "Corresponding Phase: 0.875\n",
      "Phase: 0.875, Approximated r = 8\n",
      "Guessed Factors: 1 and 1\n",
      "\n",
      "ATTEMPT 3:\n",
      "Chosen 'a': 25\n",
      "number of qubits: 19\n",
      "Register Reading: 01000000000\n",
      "Corresponding Phase: 0.25\n",
      "Phase: 0.25, Approximated r = 4\n",
      "Guessed Factors: 13 and 1\n",
      "*** Non-trivial factor found: 13 ***\n",
      "\n",
      "Factors of 143: 13, 11\n",
      "--------------------------------------------------\n",
      "10: 899\n",
      "\n",
      "ATTEMPT 1:\n",
      "Chosen 'a': 665\n",
      "number of qubits: 23\n",
      "Register Reading: 1001000000000\n",
      "Corresponding Phase: 0.5625\n",
      "Phase: 0.5625, Approximated r = 16\n",
      "Guessed Factors: 1 and 1\n",
      "\n",
      "ATTEMPT 2:\n",
      "Chosen 'a': 601\n",
      "number of qubits: 23\n"
     ]
    }
   ],
   "source": [
    "from semiprimes import semiprimes\n",
    "\n",
    "# Create the desired dictionary format\n",
    "formatted_dict = {f\"{period}\": value for period, value in semiprimes.items()}\n",
    "\n",
    "# Print the result\n",
    "for period, semiprime in formatted_dict.items():\n",
    "    print(f\"{period}: {semiprime}\")\n",
    "    N = semiprime\n",
    "    factor1, factor2 = find_factors(N, provider)\n",
    "    print(f\"\\nFactors of {N}: {factor1}, {factor2}\")\n",
    "    print(\"--------------------------------------------------\")"
   ]
  },
  {
   "cell_type": "code",
   "execution_count": null,
   "id": "fc81579f",
   "metadata": {},
   "outputs": [],
   "source": []
  }
 ],
 "metadata": {
  "kernelspec": {
   "display_name": "iQuHACK",
   "language": "python",
   "name": "python3"
  },
  "language_info": {
   "codemirror_mode": {
    "name": "ipython",
    "version": 3
   },
   "file_extension": ".py",
   "mimetype": "text/x-python",
   "name": "python",
   "nbconvert_exporter": "python",
   "pygments_lexer": "ipython3",
   "version": "3.12.3"
  }
 },
 "nbformat": 4,
 "nbformat_minor": 5
}
