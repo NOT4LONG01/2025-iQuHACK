{
 "cells": [
  {
   "cell_type": "markdown",
   "id": "7520dd67",
   "metadata": {},
   "source": [
    "## Main Code"
   ]
  },
  {
   "cell_type": "code",
   "execution_count": 9,
   "id": "94e25491",
   "metadata": {},
   "outputs": [],
   "source": [
    "import numpy as np\n",
    "from random import randint\n",
    "from math import gcd, ceil\n",
    "from qiskit import QuantumCircuit, transpile\n",
    "from math import gcd\n",
    "import numpy as np\n",
    "from fractions import Fraction\n",
    "from quantumrings.toolkit.qiskit import QrBackendV2"
   ]
  },
  {
   "cell_type": "code",
   "execution_count": 10,
   "id": "5c9391c4",
   "metadata": {},
   "outputs": [],
   "source": [
    "def generate_a(N, seed=1):\n",
    "    \"\"\"Generate a random integer 'a' such that gcd(a, N) = 1.\"\"\"\n",
    "    np.random.seed(seed)  # Set random seed for reproducibility\n",
    "    \n",
    "    a = randint(2, N)  # Random number between 2 and N-1\n",
    "    while gcd(a, N) != 1:\n",
    "        a = randint(2, N - 1)\n",
    "    \n",
    "    return a"
   ]
  },
  {
   "cell_type": "code",
   "execution_count": 11,
   "id": "2132aef3",
   "metadata": {},
   "outputs": [],
   "source": [
    "def qft_dagger(num_qubits):\n",
    "    \"\"\"Creates the inverse Quantum Fourier Transform circuit.\"\"\"\n",
    "    qc = QuantumCircuit(num_qubits)\n",
    "    for qubit in range(num_qubits // 2):\n",
    "        qc.swap(qubit, num_qubits - qubit - 1)\n",
    "    for j in range(num_qubits):\n",
    "        for m in range(j):\n",
    "            qc.cp(-np.pi / float(2 ** (j - m)), m, j)\n",
    "        qc.h(j)\n",
    "    return qc"
   ]
  },
  {
   "cell_type": "code",
   "execution_count": 12,
   "id": "6e3b443e",
   "metadata": {},
   "outputs": [],
   "source": [
    "def c_amodN(a, power, N):\n",
    "    \"\"\"Controlled multiplication by a mod N, where N is a semiprime.\"\"\"\n",
    "    if gcd(a, N) != 1:\n",
    "        raise ValueError(f\"a={a} must be coprime to N={N}.\")\n",
    "    \n",
    "    n_qubits = len(bin(N)) - 2  # Minimum number of qubits to represent N\n",
    "    U = QuantumCircuit(n_qubits)\n",
    "    \n",
    "    for _ in range(power):\n",
    "        for qubit in range(n_qubits - 1):\n",
    "            U.cx(qubit, (qubit + 1) % n_qubits)  # Placeholder for modular multiplication logic\n",
    "    \n",
    "    U = U.to_gate()\n",
    "    U.name = f\"{a}^{power} mod {N}\"\n",
    "    return U.control()"
   ]
  },
  {
   "cell_type": "code",
   "execution_count": 13,
   "id": "9a6505cc",
   "metadata": {},
   "outputs": [],
   "source": [
    "def qpe_amodN(a, N, provider, shots):\n",
    "    \"\"\"Performs quantum phase estimation on a*r mod N.\"\"\"\n",
    "    # Number of counting qubits\n",
    "    N_COUNT = ceil(np.log2(N))\n",
    "    n = ceil(np.log2(N))  # Number of qubits for auxiliary register\n",
    "    \n",
    "    # Create the quantum circuit\n",
    "    qc = QuantumCircuit(N_COUNT + n, N_COUNT)\n",
    "    \n",
    "    # Initialize counting qubits to |+>\n",
    "    for q in range(N_COUNT):\n",
    "        qc.h(q)\n",
    "    \n",
    "    # Initialize the auxiliary register to |1>\n",
    "    qc.x(N_COUNT)\n",
    "    \n",
    "    # Apply controlled-U operations\n",
    "    for q in range(N_COUNT):\n",
    "        qc.append(c_amodN(a, 2**q, N), [q] + [i + N_COUNT for i in range(n)])\n",
    "    \n",
    "    # Apply the inverse QFT\n",
    "    qc.append(qft_dagger(N_COUNT), range(N_COUNT))\n",
    "    \n",
    "    # Measure the counting qubits\n",
    "    qc.measure(range(N_COUNT), range(N_COUNT))\n",
    "    \n",
    "    # Transpile and execute\n",
    "    backend = QrBackendV2(provider, num_qubits = qc.num_qubits)\n",
    "    qc_transpiled = transpile(qc, backend)\n",
    "    print(f\"number of qubits: {qc_transpiled.num_qubits}\")\n",
    "    print(f\"number of gate operations: {qc_transpiled.count_ops()}\")\n",
    "    job = backend.run(qc_transpiled, shots=shots)\n",
    "    readings = job.result().get_memory()\n",
    "    \n",
    "    # Convert the measurement to phase\n",
    "    most_common = max(set(readings), key=readings.count)\n",
    "    phase = int(most_common, 2) / (2 ** N_COUNT)\n",
    "    \n",
    "    print(f\"Register Reading: {most_common}\")\n",
    "    print(f\"Corresponding Phase: {phase}\")\n",
    "    return phase\n"
   ]
  },
  {
   "cell_type": "code",
   "execution_count": 14,
   "id": "fc7fbf25",
   "metadata": {},
   "outputs": [],
   "source": [
    "def find_factors(N, provider, shots=1024):\n",
    "    \"\"\"Shor's algorithm for finding non-trivial factors of N.\"\"\"\n",
    "    FACTOR_FOUND = False\n",
    "    ATTEMPT = 0\n",
    "    \n",
    "    while not FACTOR_FOUND:\n",
    "        ATTEMPT += 1\n",
    "        print(f\"\\nATTEMPT {ATTEMPT}:\")\n",
    "        \n",
    "        # Generate a random 'a' coprime to N\n",
    "        a = generate_a(N)  \n",
    "        print(f\"Chosen 'a': {a}\")\n",
    "        \n",
    "        # Perform QPE\n",
    "        phase = qpe_amodN(a, N, provider, shots)  # Phase = s / r\n",
    "        \n",
    "        # Convert the phase to a rational approximation s/r\n",
    "        frac = Fraction(phase).limit_denominator(N)\n",
    "        r = frac.denominator\n",
    "        print(f\"Phase: {phase}, Approximated r = {r}\")\n",
    "        \n",
    "        if r % 2 != 0 or pow(a, r // 2, N) in [0, 1, N - 1]:\n",
    "            print(\"Invalid r, retrying...\")\n",
    "            continue  # Retry if r is odd or doesn't give non-trivial factors\n",
    "        \n",
    "        # Compute potential factors\n",
    "        guesses = [gcd(pow(a, r // 2) - 1, N), gcd(pow(a, r // 2) + 1, N)]\n",
    "        print(f\"Guessed Factors: {guesses[0]} and {guesses[1]}\")\n",
    "        \n",
    "        # Check the guesses\n",
    "        for guess in guesses:\n",
    "            if guess not in [1, N] and (N % guess) == 0:\n",
    "                print(f\"*** Non-trivial factor found: {guess} ***\")\n",
    "                FACTOR_FOUND = True\n",
    "                return guess, N // guess  # Return the two factors\n",
    "    \n",
    "    print(\"No factors found.\")\n",
    "    return None, None"
   ]
  },
  {
   "cell_type": "code",
   "execution_count": 15,
   "id": "6823f6d1",
   "metadata": {},
   "outputs": [
    {
     "data": {
      "text/plain": [
       "{'name': 'dignp5@yonsei.ac.kr',\n",
       " 'token': 'rings-200.tgGDmsBUuh8pqz21JO21ACa1bR6u6uZr',\n",
       " 'max_qubits': '200'}"
      ]
     },
     "execution_count": 15,
     "metadata": {},
     "output_type": "execute_result"
    }
   ],
   "source": [
    "from QuantumRingsLib import QuantumRingsProvider\n",
    "\n",
    "provider = QuantumRingsProvider(\n",
    "    token='rings-200.tgGDmsBUuh8pqz21JO21ACa1bR6u6uZr',\n",
    "    name='dignp5@yonsei.ac.kr'\n",
    ")\n",
    "shots = 256\n",
    "\n",
    "provider.active_account()"
   ]
  },
  {
   "cell_type": "code",
   "execution_count": null,
   "id": "fc81579f",
   "metadata": {},
   "outputs": [
    {
     "name": "stdout",
     "output_type": "stream",
     "text": [
      "\n",
      "ATTEMPT 1:\n",
      "Chosen 'a': 8008\n"
     ]
    }
   ],
   "source": [
    "N = 11009\n",
    "factor1, factor2 = find_factors(N, provider)\n",
    "print(f\"\\nFactors of {N}: {factor1}, {factor2}\")\n",
    "print(\"--------------------------------------------------\")"
   ]
  },
  {
   "cell_type": "code",
   "execution_count": null,
   "id": "4ad4cc3b",
   "metadata": {},
   "outputs": [],
   "source": []
  }
 ],
 "metadata": {
  "kernelspec": {
   "display_name": "iQuHACK",
   "language": "python",
   "name": "python3"
  },
  "language_info": {
   "codemirror_mode": {
    "name": "ipython",
    "version": 3
   },
   "file_extension": ".py",
   "mimetype": "text/x-python",
   "name": "python",
   "nbconvert_exporter": "python",
   "pygments_lexer": "ipython3",
   "version": "3.12.3"
  }
 },
 "nbformat": 4,
 "nbformat_minor": 5
}
